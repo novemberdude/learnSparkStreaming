{
 "cells": [
  {
   "cell_type": "code",
   "execution_count": 1,
   "metadata": {},
   "outputs": [],
   "source": [
    "from configparser import ConfigParser\n",
    "\n",
    "config_object = ConfigParser()\n",
    "\n",
    "config_object[\"TWITTER_CONF\"] = {\n",
    "    \"access_token\": \"1244638402210742274-GfprfdtS15VeQYUNPY37y3sUUfCiXQ\",\n",
    "    \"access_secret\": \"mxQV4I8CK8ZU4mNw1TBwhJwU9r03ECLNVu8Sv8CI958Ue\",\n",
    "    \"consumer_key\": \"B7RWCY30syijLKjhfiKcjzyTI\",\n",
    "    \"consumer_secrete\": \"zTxlc1LyIjIjGtogcX2Se9rETJWAsoy8NWTVwV1c9WlTZC6uvu\",\n",
    "}\n",
    "\n",
    "with open('config.ini', 'w') as conf:\n",
    "    config_object.write(conf)"
   ]
  },
  {
   "cell_type": "code",
   "execution_count": null,
   "metadata": {},
   "outputs": [],
   "source": []
  }
 ],
 "metadata": {
  "kernelspec": {
   "display_name": "Python 3",
   "language": "python",
   "name": "python3"
  },
  "language_info": {
   "codemirror_mode": {
    "name": "ipython",
    "version": 3
   },
   "file_extension": ".py",
   "mimetype": "text/x-python",
   "name": "python",
   "nbconvert_exporter": "python",
   "pygments_lexer": "ipython3",
   "version": "3.6.9"
  }
 },
 "nbformat": 4,
 "nbformat_minor": 2
}
