{
 "cells": [
  {
   "cell_type": "code",
   "execution_count": null,
   "metadata": {},
   "outputs": [],
   "source": [
    "from configparser import ConfigParser\n",
    "\n",
    "#Get the configparser object\n",
    "config_object = ConfigParser()\n",
    "\n",
    "#Assume we need 2 sections in the config file, let's call them USERINFO and SERVERCONFIG\n",
    "config_object[\"TWITTER_CONF\"] = {\n",
    "    \"access_token\": \"1244638402210742274-GfprfdtS15VeQYUNPY37y3sUUfCiXQ\",\n",
    "    \"access_secret\": \"mxQV4I8CK8ZU4mNw1TBwhJwU9r03ECLNVu8Sv8CI958Ue\",\n",
    "    \"consumer_key\": \"B7RWCY30syijLKjhfiKcjzyTI\",\n",
    "    \"consumer_secrete\": \"zTxlc1LyIjIjGtogcX2Se9rETJWAsoy8NWTVwV1c9WlTZC6uvu\"\n",
    "}\n",
    "\n",
    "config_object[\"SERVERCONFIG\"] = {\n",
    "    \"host\": \"tutswiki.com\",\n",
    "    \"port\": \"8080\",\n",
    "    \"ipaddr\": \"8.8.8.8\"\n",
    "}\n",
    "\n",
    "#Write the above sections to config.ini file\n",
    "with open('config.ini', 'w') as conf:\n",
    "    config_object.write(conf)"
   ]
  }
 ],
 "metadata": {
  "kernelspec": {
   "display_name": "Python 3",
   "language": "python",
   "name": "python3"
  },
  "language_info": {
   "codemirror_mode": {
    "name": "ipython",
    "version": 3
   },
   "file_extension": ".py",
   "mimetype": "text/x-python",
   "name": "python",
   "nbconvert_exporter": "python",
   "pygments_lexer": "ipython3",
   "version": "3.6.9"
  }
 },
 "nbformat": 4,
 "nbformat_minor": 2
}
